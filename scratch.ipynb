{
 "cells": [
  {
   "cell_type": "code",
   "execution_count": 31,
   "id": "8cf7a635-9c09-4163-8a91-f8d579dc2d8c",
   "metadata": {},
   "outputs": [],
   "source": [
    "from entsoe import EntsoePandasClient\n",
    "import pandas as pd\n"
   ]
  },
  {
   "cell_type": "code",
   "execution_count": 32,
   "id": "2da8c1a9-3678-4c01-b236-5b73ff2c2cdc",
   "metadata": {},
   "outputs": [],
   "source": [
    "client = EntsoePandasClient(api_key=\"0cb584c0-3744-40b9-a65d-2f54024ee575\")\n",
    "\n"
   ]
  },
  {
   "cell_type": "code",
   "execution_count": 33,
   "id": "f05d6a98-2d5d-41c0-9b27-916648c741ae",
   "metadata": {},
   "outputs": [],
   "source": [
    "start = pd.Timestamp('2023-05-01', tz='Europe/Brussels')\n",
    "end = pd.Timestamp('2024-09-09', tz='Europe/Brussels')\n",
    "country_code = 'BE'  # Belgium\n",
    "data = client.query_day_ahead_prices(country_code, start=start, end=end)"
   ]
  },
  {
   "cell_type": "code",
   "execution_count": 17,
   "id": "51c3d957-e48c-450d-8f17-27d8dd3cb41b",
   "metadata": {},
   "outputs": [
    {
     "name": "stdout",
     "output_type": "stream",
     "text": [
      "2024-08-01 00:00:00+02:00     96.75\n",
      "2024-08-01 01:00:00+02:00     87.50\n",
      "2024-08-01 02:00:00+02:00     86.85\n",
      "2024-08-01 03:00:00+02:00     78.04\n",
      "2024-08-01 04:00:00+02:00     80.50\n",
      "                              ...  \n",
      "2024-08-31 20:00:00+02:00    123.36\n",
      "2024-08-31 21:00:00+02:00    107.71\n",
      "2024-08-31 22:00:00+02:00    100.10\n",
      "2024-08-31 23:00:00+02:00     89.43\n",
      "2024-09-01 00:00:00+02:00     93.93\n",
      "Freq: 60min, Length: 745, dtype: float64\n"
     ]
    }
   ],
   "source": [
    "print(data)"
   ]
  },
  {
   "cell_type": "code",
   "execution_count": 8,
   "id": "e4ab6802-f111-4cea-9ce4-fc0836a53259",
   "metadata": {},
   "outputs": [
    {
     "data": {
      "text/plain": [
       "2024-09-09 14:00:00+02:00     34.92\n",
       "2024-09-09 15:00:00+02:00     38.94\n",
       "2024-09-09 16:00:00+02:00     37.63\n",
       "2024-09-09 17:00:00+02:00     44.15\n",
       "2024-09-09 18:00:00+02:00     89.45\n",
       "2024-09-09 19:00:00+02:00    115.35\n",
       "2024-09-09 20:00:00+02:00    112.29\n",
       "2024-09-09 21:00:00+02:00     96.13\n",
       "2024-09-09 22:00:00+02:00     88.05\n",
       "2024-09-09 23:00:00+02:00     79.87\n",
       "Freq: 60min, dtype: float64"
      ]
     },
     "execution_count": 8,
     "metadata": {},
     "output_type": "execute_result"
    }
   ],
   "source": [
    "data.tail(10)"
   ]
  },
  {
   "cell_type": "code",
   "execution_count": null,
   "id": "fb9c269a-d59e-4543-aeb7-b0105502c50f",
   "metadata": {},
   "outputs": [],
   "source": []
  },
  {
   "cell_type": "code",
   "execution_count": 34,
   "id": "23e3b70c-0d0f-401e-aefa-30e003c00df3",
   "metadata": {},
   "outputs": [],
   "source": [
    "df = data.rename('belpex').to_frame()"
   ]
  },
  {
   "cell_type": "code",
   "execution_count": 35,
   "id": "00424b8b-d500-453e-ac10-cc37b2995baa",
   "metadata": {},
   "outputs": [],
   "source": [
    "df.set_index(df.index.tz_localize(None)).to_excel(\"belpex.xlsx\")"
   ]
  },
  {
   "cell_type": "code",
   "execution_count": null,
   "id": "ca27b17f-9753-46f0-8616-205d3298e9aa",
   "metadata": {},
   "outputs": [],
   "source": []
  }
 ],
 "metadata": {
  "kernelspec": {
   "display_name": "Python 3 (ipykernel)",
   "language": "python",
   "name": "python3"
  },
  "language_info": {
   "codemirror_mode": {
    "name": "ipython",
    "version": 3
   },
   "file_extension": ".py",
   "mimetype": "text/x-python",
   "name": "python",
   "nbconvert_exporter": "python",
   "pygments_lexer": "ipython3",
   "version": "3.12.4"
  }
 },
 "nbformat": 4,
 "nbformat_minor": 5
}
