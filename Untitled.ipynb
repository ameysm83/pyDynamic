{
 "cells": [
  {
   "cell_type": "code",
   "execution_count": 8,
   "id": "76e0f33c-2f47-426c-9e10-1ab773e3e5f3",
   "metadata": {},
   "outputs": [],
   "source": [
    "from datetime import datetime\n",
    "import pydynamic.pydynamic.pydynamic as pydyna\n",
    "prices = pydyna.pyDynamic()"
   ]
  },
  {
   "cell_type": "code",
   "execution_count": 3,
   "id": "a7b6bb54-66b1-43c1-a077-e94ce56f41d6",
   "metadata": {},
   "outputs": [],
   "source": [
    "kost = prices.getLuminusDayPrices()"
   ]
  },
  {
   "cell_type": "code",
   "execution_count": 4,
   "id": "3af091b7-4eed-4a24-b06e-ef96b6a18ca5",
   "metadata": {},
   "outputs": [
    {
     "name": "stdout",
     "output_type": "stream",
     "text": [
      "                Uur Belpex H (€/MWh) 01/09/’24 Belpex H (€/MWh) 02/09/’24\n",
      "0   00.00u – 01.00u                     €93.93                     €91.78\n",
      "1   01.00u – 02.00u                     €85.99                     €94.90\n",
      "2   02.00u – 03.00u                     €80.37                     €92.42\n",
      "3   03.00u – 04.00u                     €74.19                     €92.53\n",
      "4   04.00u – 05.00u                     €68.22                     €89.51\n",
      "5   05.00u – 06.00u                     €65.72                     €97.32\n",
      "6   06.00u – 07.00u                     €65.86                    €107.79\n",
      "7   07.00u – 08.00u                     €64.61                    €127.63\n",
      "8   08.00u – 09.00u                     €60.60                    €131.52\n",
      "9   09.00u – 10.00u                     €41.27                    €122.64\n",
      "10  10.00u – 11.00u                     €12.73                    €102.83\n",
      "11  11.00u – 12.00u                     €-3.50                     €90.87\n",
      "12  12.00u – 13.00u                    €-28.02                     €85.25\n",
      "13  13.00u – 14.00u                    €-53.61                     €81.40\n",
      "14  14.00u – 15.00u                    €-31.40                     €83.93\n",
      "15  15.00u – 16.00u                    €-10.72                     €89.18\n",
      "16  16.00u – 17.00u                     €25.38                     €94.07\n",
      "17  17.00u – 18.00u                     €78.50                    €106.19\n",
      "18  18.00u – 19.00u                    €104.56                    €127.76\n",
      "19  19.00u – 20.00u                    €127.02                    €186.48\n",
      "20  20.00u – 21.00u                    €124.75                    €171.81\n",
      "21  21.00u – 22.00u                    €108.71                    €132.98\n",
      "22  22.00u – 23.00u                    €103.49                    €115.24\n",
      "23  23.00u – 00.00u                     €91.11                    €104.21\n"
     ]
    }
   ],
   "source": [
    "print(kost)"
   ]
  },
  {
   "cell_type": "code",
   "execution_count": 4,
   "id": "cec90d3a-382f-4ac5-9082-1cb4e9600818",
   "metadata": {},
   "outputs": [
    {
     "data": {
      "text/html": [
       "<div>\n",
       "<style scoped>\n",
       "    .dataframe tbody tr th:only-of-type {\n",
       "        vertical-align: middle;\n",
       "    }\n",
       "\n",
       "    .dataframe tbody tr th {\n",
       "        vertical-align: top;\n",
       "    }\n",
       "\n",
       "    .dataframe thead th {\n",
       "        text-align: right;\n",
       "    }\n",
       "</style>\n",
       "<table border=\"1\" class=\"dataframe\">\n",
       "  <thead>\n",
       "    <tr style=\"text-align: right;\">\n",
       "      <th></th>\n",
       "      <th>Uur</th>\n",
       "      <th>Belpex H (€/MWh) 01/09/’24</th>\n",
       "      <th>Belpex H (€/MWh) 02/09/’24</th>\n",
       "    </tr>\n",
       "  </thead>\n",
       "  <tbody>\n",
       "    <tr>\n",
       "      <th>0</th>\n",
       "      <td>00.00u – 01.00u</td>\n",
       "      <td>€93.93</td>\n",
       "      <td>€91.78</td>\n",
       "    </tr>\n",
       "    <tr>\n",
       "      <th>1</th>\n",
       "      <td>01.00u – 02.00u</td>\n",
       "      <td>€85.99</td>\n",
       "      <td>€94.90</td>\n",
       "    </tr>\n",
       "    <tr>\n",
       "      <th>2</th>\n",
       "      <td>02.00u – 03.00u</td>\n",
       "      <td>€80.37</td>\n",
       "      <td>€92.42</td>\n",
       "    </tr>\n",
       "    <tr>\n",
       "      <th>3</th>\n",
       "      <td>03.00u – 04.00u</td>\n",
       "      <td>€74.19</td>\n",
       "      <td>€92.53</td>\n",
       "    </tr>\n",
       "    <tr>\n",
       "      <th>4</th>\n",
       "      <td>04.00u – 05.00u</td>\n",
       "      <td>€68.22</td>\n",
       "      <td>€89.51</td>\n",
       "    </tr>\n",
       "  </tbody>\n",
       "</table>\n",
       "</div>"
      ],
      "text/plain": [
       "               Uur Belpex H (€/MWh) 01/09/’24 Belpex H (€/MWh) 02/09/’24\n",
       "0  00.00u – 01.00u                     €93.93                     €91.78\n",
       "1  01.00u – 02.00u                     €85.99                     €94.90\n",
       "2  02.00u – 03.00u                     €80.37                     €92.42\n",
       "3  03.00u – 04.00u                     €74.19                     €92.53\n",
       "4  04.00u – 05.00u                     €68.22                     €89.51"
      ]
     },
     "execution_count": 4,
     "metadata": {},
     "output_type": "execute_result"
    }
   ],
   "source": [
    "kost.head()"
   ]
  },
  {
   "cell_type": "code",
   "execution_count": 6,
   "id": "4c0fd743-d3d3-45f5-a814-c42a6241c152",
   "metadata": {},
   "outputs": [
    {
     "data": {
      "text/plain": [
       "['Uur', 'Belpex H (€/MWh) 01/09/’24', 'Belpex H (€/MWh) 02/09/’24']"
      ]
     },
     "execution_count": 6,
     "metadata": {},
     "output_type": "execute_result"
    }
   ],
   "source": [
    "list(kost)"
   ]
  },
  {
   "cell_type": "code",
   "execution_count": 7,
   "id": "5530a71c-2527-4b90-ab5f-4856d2c407bb",
   "metadata": {},
   "outputs": [
    {
     "data": {
      "text/plain": [
       "'00.00u – 01.00u'"
      ]
     },
     "execution_count": 7,
     "metadata": {},
     "output_type": "execute_result"
    }
   ],
   "source": [
    "kost['Uur'][0]\n",
    "    "
   ]
  },
  {
   "cell_type": "code",
   "execution_count": 21,
   "id": "cb664c18-9446-4918-a77e-4a464a070bd6",
   "metadata": {},
   "outputs": [
    {
     "name": "stdout",
     "output_type": "stream",
     "text": [
      "0024-09-01 00:00:00\n",
      "0024-09-02 00:00:00\n"
     ]
    }
   ],
   "source": [
    "for el in kost:\n",
    "    if not 'Uur' in el:\n",
    "        [d,m,y] = [int(x) for x in el.split(' ')[-1].replace('’','').split('/')]\n",
    "        dt = datetime(y,m,d)\n",
    "        print(dt)"
   ]
  },
  {
   "cell_type": "code",
   "execution_count": null,
   "id": "9f1f66f1-2053-4ed6-88a1-eca5e01646e6",
   "metadata": {},
   "outputs": [],
   "source": []
  }
 ],
 "metadata": {
  "kernelspec": {
   "display_name": "Python 3 (ipykernel)",
   "language": "python",
   "name": "python3"
  },
  "language_info": {
   "codemirror_mode": {
    "name": "ipython",
    "version": 3
   },
   "file_extension": ".py",
   "mimetype": "text/x-python",
   "name": "python",
   "nbconvert_exporter": "python",
   "pygments_lexer": "ipython3",
   "version": "3.12.4"
  }
 },
 "nbformat": 4,
 "nbformat_minor": 5
}
